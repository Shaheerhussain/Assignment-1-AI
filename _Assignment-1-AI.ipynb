{
 "cells": [
  {
   "cell_type": "markdown",
   "id": "b174bb51",
   "metadata": {},
   "source": [
    "# NAME: SHAHEER HUSSAIN \n",
    "# Roll No: PIAIC127980"
   ]
  },
  {
   "cell_type": "markdown",
   "id": "512782d7",
   "metadata": {},
   "source": [
    "# 1.Assign a message to a variable and then print that message"
   ]
  },
  {
   "cell_type": "code",
   "execution_count": 2,
   "id": "d3faaee3",
   "metadata": {},
   "outputs": [
    {
     "name": "stdout",
     "output_type": "stream",
     "text": [
      "Hello to programming world\n"
     ]
    }
   ],
   "source": [
    "greetings = \"Hello to programming world\"\n",
    "print(greetings)"
   ]
  },
  {
   "cell_type": "markdown",
   "id": "717c323e",
   "metadata": {},
   "source": [
    "# 2.Find a quote from a famous person you admire. Print the quote and the name of its author. Your output should look something like the following, including the quotation marks:"
   ]
  },
  {
   "cell_type": "code",
   "execution_count": 3,
   "id": "5be85cdc",
   "metadata": {},
   "outputs": [
    {
     "name": "stdout",
     "output_type": "stream",
     "text": [
      "Albert Einstein once said, \" A person who never made a mistake never tried anything new. \"\n"
     ]
    }
   ],
   "source": [
    "name=\"Albert Einstein once said,\"\n",
    "quote=\"A person who never made a mistake never tried anything new.\"\n",
    "print(name,'\"',quote,'\"') "
   ]
  },
  {
   "cell_type": "markdown",
   "id": "d1d2bc70",
   "metadata": {},
   "source": [
    "# 3.Calculate Area of a Circle: Write a Python program which accepts the radius of a circle from the user and compute the area."
   ]
  },
  {
   "cell_type": "code",
   "execution_count": 13,
   "id": "fb835fe5",
   "metadata": {},
   "outputs": [
    {
     "name": "stdout",
     "output_type": "stream",
     "text": [
      " Enter radius of the circle : 0.5\n",
      " Input Radius: 0.5\n",
      "Area of Circle with radius 0.5 is: 0.78525\n"
     ]
    }
   ],
   "source": [
    "radius = float(input(\" Enter radius of the circle : \"))\n",
    "\n",
    "print(\" Input Radius:\",radius)\n",
    "print (\"Area of Circle with radius \" + str(radius) + \" is: \" + str(3.141 * radius**2))"
   ]
  },
  {
   "cell_type": "markdown",
   "id": "03cac1e5",
   "metadata": {},
   "source": [
    "# 4.Check Number either positive, negative or zero:: Write a Python program to check if a number is positive,"
   ]
  },
  {
   "cell_type": "code",
   "execution_count": 19,
   "id": "a4a580eb",
   "metadata": {},
   "outputs": [
    {
     "name": "stdout",
     "output_type": "stream",
     "text": [
      "Enter a number: -3\n",
      "Negative number Entered\n"
     ]
    }
   ],
   "source": [
    "num = float(input(\"Enter a number: \"))\n",
    "if num > 0:\n",
    "    print(\"Positive Number Entered\")\n",
    "elif num == 0:\n",
    "    print(\"Zero Entered\")\n",
    "else:\n",
    "    print(\"Negative number Entered\")\n",
    "\n"
   ]
  },
  {
   "cell_type": "markdown",
   "id": "761d1382",
   "metadata": {},
   "source": [
    "# 5. Vowel Tester Write a Python program to test whether a passed letter is a vowel or not"
   ]
  },
  {
   "cell_type": "code",
   "execution_count": 21,
   "id": "d81c1874",
   "metadata": {
    "scrolled": true
   },
   "outputs": [
    {
     "name": "stdout",
     "output_type": "stream",
     "text": [
      " Enter a character:U\n",
      "Letter U is Vowel\n"
     ]
    }
   ],
   "source": [
    "vowel = input(\" Enter a character:\")\n",
    "if vowel == 'A' or vowel == \"a\" or vowel == 'E' or vowel == 'e' or vowel == 'I' or vowel == 'i' or vowel == 'O' or vowel == 'o' or vowel == 'U' or vowel == 'u':\n",
    "    print('Letter',vowel,\"is Vowel\")\n",
    "else:\n",
    "    print(\"Letter\",vowel,\"is not vowel\")"
   ]
  },
  {
   "cell_type": "markdown",
   "id": "6d2da475",
   "metadata": {},
   "source": [
    "\n",
    "# 6. BMI Calculator Write a Python program to calculate body mass index Program"
   ]
  },
  {
   "cell_type": "code",
   "execution_count": 25,
   "id": "9a7ea459",
   "metadata": {},
   "outputs": [
    {
     "name": "stdout",
     "output_type": "stream",
     "text": [
      "Enter Height in Cm: 180\n",
      "Enter Weight in Kg:: 75\n",
      "Your body mass index is:  23.148148148148145\n"
     ]
    }
   ],
   "source": [
    "height = float(input(\"Enter Height in Cm: \"))\n",
    "weight = float(input(\"Enter Weight in Kg:: \"))\n",
    "height_m = height / 100\n",
    "print(\"Your body mass index is: \", weight / (height_m * height_m) )"
   ]
  },
  {
   "cell_type": "markdown",
   "id": "da3d417f",
   "metadata": {},
   "source": [
    "# 7. Store the names of a few of your friends in a list called names. Print each person’s name by accessing each element in the list, one at a time.\n",
    "\n"
   ]
  },
  {
   "cell_type": "code",
   "execution_count": 27,
   "id": "aeac6f6d",
   "metadata": {},
   "outputs": [
    {
     "name": "stdout",
     "output_type": "stream",
     "text": [
      "Arshad\n",
      "Rahil\n",
      "Awais\n",
      "Rabeet\n",
      "Ahsan\n",
      "Mubashir\n"
     ]
    }
   ],
   "source": [
    "name = ['Arshad' , 'Rahil' ,  'Awais' , 'Rabeet' , 'Ahsan' , 'Mubashir']\n",
    "print(name[0])\n",
    "print(name[1])\n",
    "print(name[2])\n",
    "print(name[3])\n",
    "print(name[4])\n",
    "print(name[5])"
   ]
  },
  {
   "cell_type": "markdown",
   "id": "b0589397",
   "metadata": {},
   "source": [
    "# Start with the list you used in Question 4, but instead of just printing each person’s name, print a message to them. The text of each message should be the same, but each message should be personalized with the person’s name."
   ]
  },
  {
   "cell_type": "code",
   "execution_count": 29,
   "id": "09f5ceac",
   "metadata": {},
   "outputs": [
    {
     "name": "stdout",
     "output_type": "stream",
     "text": [
      "Arshad is a nice guy \n",
      "Rahil is a nice guy \n",
      "Awais is a nice guy \n",
      "Rabeet is a nice guy \n",
      "Ahsan is a nice guy \n",
      "Mubashir is a nice guy \n"
     ]
    }
   ],
   "source": [
    "for friend in name:\n",
    "    print(friend,\"is a nice guy \")"
   ]
  },
  {
   "cell_type": "markdown",
   "id": "0685485d",
   "metadata": {},
   "source": [
    "# Make a python program that conatains your nine favourite dishes in a list called foods. Print the message, The first three items in the list are:\n",
    "\n",
    "Then use a slice to print the first three items from that program’s list.\n",
    "\n",
    "Print the message, Three items from the middle of the list are:\n",
    "\n",
    "Use a slice to print three items from the middle of the list.\n",
    "\n",
    "Print the message, The last three items in the list are:\n",
    "\n",
    "Use a slice to print the last three items in the list.\n"
   ]
  },
  {
   "cell_type": "code",
   "execution_count": 34,
   "id": "e8ca1ac7",
   "metadata": {},
   "outputs": [
    {
     "name": "stdout",
     "output_type": "stream",
     "text": [
      "The first three items in the list are ['biryani', 'burger', 'pizza']\n",
      "Three items from the middle of the list are ['pasta', 'macroni', 'spheghetti']\n",
      "The last three items in the list are ['nuggets', 'corn', 'mommos']\n"
     ]
    }
   ],
   "source": [
    "foods = ['biryani','burger','pizza','pasta','macroni','spheghetti','nuggets','corn','mommos']\n",
    "print('The first three items in the list are',foods[0:3])\n",
    "print('Three items from the middle of the list are',foods[3:6])\n",
    "print('The last three items in the list are',foods[6:])"
   ]
  },
  {
   "cell_type": "markdown",
   "id": "af382a82",
   "metadata": {},
   "source": [
    "# Start with your program from your last Question8. Make a copy of the list of foods, and call it friend_foods. Then, do the following:\n",
    "\n",
    "Add a new dish to the original list.\n",
    "\n",
    "Add a different dish to the list friend_foods.\n",
    "\n",
    "Prove that you have two separate lists.\n",
    "\n",
    "Print the message, My favorite pizzas are: and then use a for loop to print the first list.\n",
    "\n",
    "Print the message,\n",
    "\n",
    "My friend’s favorite foods are:, and then use a for loop to print the second list.\n",
    "\n",
    "NOTE: Make sure each new dish is stored in the appropriate list.\n",
    "\n"
   ]
  },
  {
   "cell_type": "code",
   "execution_count": 35,
   "id": "c130f3c4",
   "metadata": {},
   "outputs": [
    {
     "name": "stdout",
     "output_type": "stream",
     "text": [
      "['biryani', 'burger', 'pizza', 'pasta', 'macroni', 'spheghetti', 'nuggets', 'corn', 'mommos', 'tikka']\n",
      "['biryani', 'burger', 'pizza', 'pasta', 'macroni', 'spheghetti', 'nuggets', 'corn', 'mommos', 'chargha']\n"
     ]
    }
   ],
   "source": [
    "friends_food = foods[0:9]\n",
    "foods.append(\"tikka\")\n",
    "friends_food.append(\"chargha\")\n",
    "print(foods)\n",
    "print(friends_food)"
   ]
  },
  {
   "cell_type": "code",
   "execution_count": 38,
   "id": "6d4a3481",
   "metadata": {},
   "outputs": [
    {
     "name": "stdout",
     "output_type": "stream",
     "text": [
      "My favorite pizzas are : \n",
      "biryani\n",
      "burger\n",
      "pizza\n",
      "pasta\n",
      "macroni\n",
      "spheghetti\n",
      "nuggets\n",
      "corn\n",
      "mommos\n",
      "tikka\n"
     ]
    }
   ],
   "source": [
    "print(\"My favorite pizzas are : \")\n",
    "for items in foods:\n",
    "    print(items)"
   ]
  },
  {
   "cell_type": "code",
   "execution_count": 39,
   "id": "445ab595",
   "metadata": {},
   "outputs": [
    {
     "name": "stdout",
     "output_type": "stream",
     "text": [
      "My friends favorite foods are : \n",
      "biryani\n",
      "burger\n",
      "pizza\n",
      "pasta\n",
      "macroni\n",
      "spheghetti\n",
      "nuggets\n",
      "corn\n",
      "mommos\n",
      "chargha\n"
     ]
    }
   ],
   "source": [
    "print(\"My friends favorite foods are : \")\n",
    "for item in friends_food:\n",
    "    print(item)"
   ]
  },
  {
   "cell_type": "code",
   "execution_count": null,
   "id": "4665cc01",
   "metadata": {},
   "outputs": [],
   "source": []
  }
 ],
 "metadata": {
  "kernelspec": {
   "display_name": "Python 3 (ipykernel)",
   "language": "python",
   "name": "python3"
  },
  "language_info": {
   "codemirror_mode": {
    "name": "ipython",
    "version": 3
   },
   "file_extension": ".py",
   "mimetype": "text/x-python",
   "name": "python",
   "nbconvert_exporter": "python",
   "pygments_lexer": "ipython3",
   "version": "3.9.7"
  },
  "widgets": {
   "application/vnd.jupyter.widget-state+json": {
    "state": {},
    "version_major": 2,
    "version_minor": 0
   }
  }
 },
 "nbformat": 4,
 "nbformat_minor": 5
}
